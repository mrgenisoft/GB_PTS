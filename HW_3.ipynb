{
 "cells": [
  {
   "cell_type": "code",
   "execution_count": 1,
   "metadata": {},
   "outputs": [],
   "source": [
    "import numpy as np\n",
    "from scipy.special import comb, factorial"
   ]
  },
  {
   "cell_type": "markdown",
   "metadata": {},
   "source": [
    "### Задача 1"
   ]
  },
  {
   "cell_type": "markdown",
   "metadata": {},
   "source": [
    "Даны значения зарплат из выборки выпускников: 100, 80, 75, 77, 89, 33, 45, 25, 65, 17, 30, 24, 57, 55, 70, 75, 65, 84, 90, 150. Посчитать (желательно без использования статистических методов наподобие std, var, mean) среднее арифметическое, среднее квадратичное отклонение, смещенную и несмещенную оценки дисперсий для данной выборки."
   ]
  },
  {
   "cell_type": "code",
   "execution_count": 2,
   "metadata": {},
   "outputs": [],
   "source": [
    "df = [100, 80, 75, 77, 89, 33, 45, 25, 65, 17, 30, 24, 57, 55, 70, 75, 65, 84, 90, 150]\n",
    "n = len(df)"
   ]
  },
  {
   "cell_type": "code",
   "execution_count": 3,
   "metadata": {},
   "outputs": [
    {
     "name": "stdout",
     "output_type": "stream",
     "text": [
      "Среднее арифметическое: 65.3 65.3\n"
     ]
    }
   ],
   "source": [
    "m = 0\n",
    "for i in df: m += i\n",
    "m /= n\n",
    "print(\"Среднее арифметическое:\", m, np.mean(df))"
   ]
  },
  {
   "cell_type": "code",
   "execution_count": 4,
   "metadata": {},
   "outputs": [
    {
     "name": "stdout",
     "output_type": "stream",
     "text": [
      "Смещенная оценка дисперсии: 950.1100000000006 950.11\n",
      "Несмещенная оценка дисперсии: 1000.1157894736848 1000.1157894736842\n"
     ]
    }
   ],
   "source": [
    "bsv = 0\n",
    "for i in df: bsv += (i**2 - m**2)\n",
    "bsv = bsv / n\n",
    "usv = bsv * n / (n - 1)\n",
    "print(\"Смещенная оценка дисперсии:\", bsv, np.var(df, ddof=0))\n",
    "print(\"Несмещенная оценка дисперсии:\", usv, np.var(df, ddof=1))"
   ]
  },
  {
   "cell_type": "code",
   "execution_count": 5,
   "metadata": {},
   "outputs": [
    {
     "name": "stdout",
     "output_type": "stream",
     "text": [
      "Смещенная оценка СКО: 30.823854398825606 30.823854398825596\n",
      "Несмещенная оценка СКО: 31.62460734101982 31.624607341019814\n"
     ]
    }
   ],
   "source": [
    "bstd = np.sqrt(bsv)\n",
    "ustd = np.sqrt(usv)\n",
    "print(\"Смещенная оценка СКО:\", bstd, np.std(df, ddof=0))\n",
    "print(\"Несмещенная оценка СКО:\", ustd, np.std(df, ddof=1))"
   ]
  },
  {
   "cell_type": "markdown",
   "metadata": {},
   "source": [
    "### Задача 2"
   ]
  },
  {
   "cell_type": "markdown",
   "metadata": {},
   "source": [
    "В первом ящике находится 8 мячей, из которых 5 - белые. Во втором ящике - 12 мячей, из которых 5 белых. Из первого ящика вытаскивают случайным образом два мяча, из второго - 4. Какова вероятность того, что 3 мяча белые?"
   ]
  },
  {
   "cell_type": "markdown",
   "metadata": {},
   "source": [
    "Варианты: 1) 1й ящик - ноль белых, 2й ящик - три белых; 2) 1й ящик - один белый, 2й ящик - два белых; 3) 1й ящик - два белых, 2й ящик - один белый."
   ]
  },
  {
   "cell_type": "code",
   "execution_count": 6,
   "metadata": {},
   "outputs": [
    {
     "data": {
      "text/plain": [
       "0.34577922077922074"
      ]
     },
     "execution_count": 6,
     "metadata": {},
     "output_type": "execute_result"
    }
   ],
   "source": [
    "p1 = comb(3, 2)/comb(8, 2) * comb(5, 3)/comb(12, 3)\n",
    "p2 = comb(5, 1)*comb(3, 1)/comb(8, 2) * comb(5, 2)*comb(7, 1)/comb(12, 3)\n",
    "p3 = comb(5, 2)/comb(8, 2) * comb(5, 1)*comb(7, 2)/comb(12, 3)\n",
    "p1+p2+p3"
   ]
  },
  {
   "cell_type": "markdown",
   "metadata": {},
   "source": [
    "### Задача 3"
   ]
  },
  {
   "cell_type": "markdown",
   "metadata": {},
   "source": [
    "На соревновании по биатлону один из трех спортсменов стреляет и попадает в мишень. Вероятность попадания для первого спортсмена равна 0.9, для второго - 0.8, для третьего - 0.6. Найти вероятность того, что выстрел произведен: a) первым спортсменом, б) вторым спортсменом, в) третьим спортсменом."
   ]
  },
  {
   "cell_type": "code",
   "execution_count": 7,
   "metadata": {},
   "outputs": [],
   "source": [
    "pab1 = 0.9 # вероятность попадания 1м спортсменом\n",
    "pab2 = 0.8 # вероятность попадания 2м спортсменом\n",
    "pab3 = 0.6 # вероятность попадания 3м спортсменом"
   ]
  },
  {
   "cell_type": "code",
   "execution_count": 8,
   "metadata": {},
   "outputs": [],
   "source": [
    "pb1 = 1/3 # вероятность выстрела 1м спортсменом\n",
    "pb2 = 1/3 # вероятность выстрела 2м спортсменом\n",
    "pb3 = 1/3 # вероятность выстрела 3м спортсменом"
   ]
  },
  {
   "cell_type": "code",
   "execution_count": 9,
   "metadata": {},
   "outputs": [],
   "source": [
    "pa = pab1*pb1 + pab2*pb2 + pab3*pb3 # вероятность попадания "
   ]
  },
  {
   "cell_type": "code",
   "execution_count": 10,
   "metadata": {},
   "outputs": [],
   "source": [
    "pb1a = pb1 * pab1 / pa # вероятность того, что выстрел произведен 1м спортсменом\n",
    "pb2a = pb2 * pab2 / pa # вероятность того, что выстрел произведен 2м спортсменом\n",
    "pb3a = pb3 * pab3 / pa # вероятность того, что выстрел произведен 3м спортсменом"
   ]
  },
  {
   "cell_type": "code",
   "execution_count": 11,
   "metadata": {},
   "outputs": [
    {
     "data": {
      "text/plain": [
       "(0.391304347826087, 0.3478260869565218, 0.2608695652173913)"
      ]
     },
     "execution_count": 11,
     "metadata": {},
     "output_type": "execute_result"
    }
   ],
   "source": [
    "pb1a, pb2a, pb3a"
   ]
  },
  {
   "cell_type": "markdown",
   "metadata": {},
   "source": [
    "### Задача 4"
   ]
  },
  {
   "cell_type": "markdown",
   "metadata": {},
   "source": [
    "В университет на факультеты A и B поступило равное количество студентов, а на факультет C студентов поступило столько же, сколько на A и B вместе. Вероятность того, что студент факультета A сдаст первую сессию, равна 0.8. Для студента факультета B эта вероятность равна 0.7, а для студента факультета C - 0.9. Студент сдал первую сессию. Какова вероятность, что он учится: a) на факультете A, б) на факультете B, в) на факультете C?"
   ]
  },
  {
   "cell_type": "code",
   "execution_count": 12,
   "metadata": {},
   "outputs": [],
   "source": [
    "pab1 = 0.8 # вероятность того, что студент факультета A сдаст первую сессию\n",
    "pab2 = 0.7 # вероятность того, что студент факультета B сдаст первую сессию\n",
    "pab3 = 0.9 # вероятность того, что студент факультета C сдаст первую сессию"
   ]
  },
  {
   "cell_type": "code",
   "execution_count": 13,
   "metadata": {},
   "outputs": [],
   "source": [
    "pb1 = 0.25 # вероятность того, что студент поступил на факультет A\n",
    "pb2 = 0.25 # вероятность того, что студент поступил на факультет B\n",
    "pb3 = 0.50 # вероятность того, что студент поступил на факультет C"
   ]
  },
  {
   "cell_type": "code",
   "execution_count": 14,
   "metadata": {},
   "outputs": [],
   "source": [
    "pa = pab1*pb1 + pab2*pb2 + pab3*pb3 # вероятность сдачи сессии "
   ]
  },
  {
   "cell_type": "code",
   "execution_count": 15,
   "metadata": {},
   "outputs": [],
   "source": [
    "pb1a = pb1 * pab1 / pa # вероятность того, что студент учиться на на факультете A\n",
    "pb2a = pb2 * pab2 / pa # вероятность того, что студент учиться на на факультете B\n",
    "pb3a = pb3 * pab3 / pa # вероятность того, что студент учиться на на факультете C"
   ]
  },
  {
   "cell_type": "code",
   "execution_count": 16,
   "metadata": {},
   "outputs": [
    {
     "data": {
      "text/plain": [
       "(0.24242424242424246, 0.21212121212121213, 0.5454545454545455)"
      ]
     },
     "execution_count": 16,
     "metadata": {},
     "output_type": "execute_result"
    }
   ],
   "source": [
    "pb1a, pb2a, pb3a"
   ]
  },
  {
   "cell_type": "markdown",
   "metadata": {},
   "source": [
    "### Задача 5"
   ]
  },
  {
   "cell_type": "markdown",
   "metadata": {},
   "source": [
    "Устройство состоит из трех деталей. Для первой детали вероятность выйти из строя в первый месяц равна 0.1, для второй - 0.2, для третьей - 0.25. Какова вероятность того, что в первый месяц выйдут из строя: а) все детали, б) только две детали, в) хотя бы одна деталь, г) от одной до двух деталей?"
   ]
  },
  {
   "cell_type": "code",
   "execution_count": 17,
   "metadata": {},
   "outputs": [],
   "source": [
    "p1 = 0.1\n",
    "p2 = 0.2\n",
    "p3 = 0.25"
   ]
  },
  {
   "cell_type": "code",
   "execution_count": 18,
   "metadata": {},
   "outputs": [
    {
     "data": {
      "text/plain": [
       "0.005000000000000001"
      ]
     },
     "execution_count": 18,
     "metadata": {},
     "output_type": "execute_result"
    }
   ],
   "source": [
    "p1*p2*p3 # вероятность того, что в первый месяц выйдут из строя все детали"
   ]
  },
  {
   "cell_type": "code",
   "execution_count": 19,
   "metadata": {},
   "outputs": [
    {
     "data": {
      "text/plain": [
       "0.08000000000000002"
      ]
     },
     "execution_count": 19,
     "metadata": {},
     "output_type": "execute_result"
    }
   ],
   "source": [
    "p1*p2*(1-p3)+p1*(1-p2)*p3+(1-p1)*p2*p3 # вероятность того, что в первый месяц выйдут из строя только две детали"
   ]
  },
  {
   "cell_type": "code",
   "execution_count": 20,
   "metadata": {},
   "outputs": [
    {
     "data": {
      "text/plain": [
       "0.45999999999999996"
      ]
     },
     "execution_count": 20,
     "metadata": {},
     "output_type": "execute_result"
    }
   ],
   "source": [
    "1-(1-p1)*(1-p2)*(1-p3) # вероятность того, что в первый месяц выйдет из строя хотя бы одна деталь"
   ]
  },
  {
   "cell_type": "code",
   "execution_count": 21,
   "metadata": {},
   "outputs": [
    {
     "data": {
      "text/plain": [
       "0.455"
      ]
     },
     "execution_count": 21,
     "metadata": {},
     "output_type": "execute_result"
    }
   ],
   "source": [
    "pa = p1*(1-p2)*(1-p3)+(1-p1)*p2*(1-p3)+(1-p1)*(1-p2)*p3 # вероятность того, что в первый месяц выйдут из строя только одна деталь\n",
    "pb = p1*p2*(1-p3)+p1*(1-p2)*p3+(1-p1)*p2*p3 # вероятность того, что в первый месяц выйдут из строя только две детали\n",
    "pa+pb # вероятность того, что в первый месяц выйдут из строя от одной до двух деталей"
   ]
  },
  {
   "cell_type": "code",
   "execution_count": null,
   "metadata": {},
   "outputs": [],
   "source": []
  }
 ],
 "metadata": {
  "kernelspec": {
   "display_name": "Python 3",
   "language": "python",
   "name": "python3"
  },
  "language_info": {
   "codemirror_mode": {
    "name": "ipython",
    "version": 3
   },
   "file_extension": ".py",
   "mimetype": "text/x-python",
   "name": "python",
   "nbconvert_exporter": "python",
   "pygments_lexer": "ipython3",
   "version": "3.7.3"
  }
 },
 "nbformat": 4,
 "nbformat_minor": 2
}
